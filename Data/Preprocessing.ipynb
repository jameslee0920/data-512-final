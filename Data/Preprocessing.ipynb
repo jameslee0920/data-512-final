{
 "cells": [
  {
   "cell_type": "code",
   "execution_count": 1,
   "metadata": {},
   "outputs": [],
   "source": [
    "import pandas as pd\n",
    "import numpy as np\n",
    "import re"
   ]
  },
  {
   "cell_type": "code",
   "execution_count": 2,
   "metadata": {},
   "outputs": [],
   "source": [
    "# Read Data\n",
    "atus_data = pd.read_csv('SUM0319.txt', sep=\",\", header=0)\n",
    "# Obtain year of survey\n",
    "atus_data['year'] = atus_data.TUCASEID.astype(str).str[0:4].astype(int)\n",
    "# Calculate birth year from Age of participant and year of survey\n",
    "atus_data['birth_year'] = atus_data.year - atus_data.TEAGE\n",
    "# Find Generation of Participant\n",
    "gen_conditions = [\n",
    "    (atus_data['birth_year'] >= 1946) & (atus_data['birth_year'] <= 1964),\n",
    "    (atus_data['birth_year'] >= 1965) & (atus_data['birth_year'] <= 1980),\n",
    "    (atus_data['birth_year'] >= 1981) & (atus_data['birth_year'] <= 1996),\n",
    "    (atus_data['birth_year'] >= 1997) & (atus_data['birth_year'] <= 2012)\n",
    "                 ]\n",
    "gen_choices = [\n",
    "    \"Boomers\",\n",
    "    \"Generation X\",\n",
    "    \"Millennials\",\n",
    "    \"Generation Z\"\n",
    "]\n",
    "atus_data['generation'] = np.select(gen_conditions, gen_choices, default = 'Silent Generation')\n",
    "\n",
    "# Find Sex of Participants\n",
    "sex_conditions = [\n",
    "    (atus_data['TESEX'] == 1),\n",
    "    (atus_data['TESEX'] == 2)\n",
    "                 ]\n",
    "sex_choices = [\n",
    "    \"Male\",\n",
    "    \"Female\"\n",
    "]\n",
    "atus_data['Sex'] = np.select(sex_conditions, sex_choices)\n",
    "# Find relevant coding of activities using Lexicon and group relevant activities together\n",
    "sleep_cols = list(atus_data.columns[[bool(re.search('t0101.*', column)) for column in atus_data.columns]])\n",
    "house_work_cols = list(atus_data.columns[[bool(re.search('t02.*', column)) for column in atus_data.columns]])\n",
    "child_care_cols = (list(atus_data.columns[[bool(re.search('t0301.*', column)) for column in atus_data.columns]]) + \n",
    "              list(atus_data.columns[[bool(re.search('t0302.*', column)) for column in atus_data.columns]]) +\n",
    "              list(atus_data.columns[[bool(re.search('t0303.*', column)) for column in atus_data.columns]]))\n",
    "work_cols = list(atus_data.columns[[bool(re.search('t05.*', column)) for column in atus_data.columns]])\n",
    "education_cols = list(atus_data.columns[[bool(re.search('t06.*', column)) for column in atus_data.columns]])\n",
    "leisure_cols = (list(atus_data.columns[[bool(re.search('t12.*', column)) for column in atus_data.columns]]) + \n",
    "           list(atus_data.columns[[bool(re.search('t13.*', column)) for column in atus_data.columns]]))\n",
    "\n",
    "# Find time spent on each activity (in hours)\n",
    "atus_data['sleep'] = atus_data[sleep_cols].sum(axis = 1)/60\n",
    "atus_data['house_work'] = atus_data[house_work_cols].sum(axis = 1)/60\n",
    "atus_data['child_care'] = atus_data[child_care_cols].sum(axis = 1)/60\n",
    "atus_data['work'] = atus_data[work_cols].sum(axis = 1)/60\n",
    "atus_data['education'] = atus_data[education_cols].sum(axis = 1)/60\n",
    "atus_data['leisure'] = atus_data[leisure_cols].sum(axis = 1)/60"
   ]
  },
  {
   "cell_type": "code",
   "execution_count": 3,
   "metadata": {},
   "outputs": [],
   "source": [
    "worker = atus_data[(atus_data.TELFS == 1) & (atus_data.TEAGE >= 30) & (atus_data.TEAGE <= 40)]\n",
    "worker.iloc[:,np.r_[0:24,455:465]].to_csv(\"processed_atus_data.csv\",index=False)\n"
   ]
  }
 ],
 "metadata": {
  "kernelspec": {
   "display_name": "Python 3",
   "language": "python",
   "name": "python3"
  },
  "language_info": {
   "codemirror_mode": {
    "name": "ipython",
    "version": 3
   },
   "file_extension": ".py",
   "mimetype": "text/x-python",
   "name": "python",
   "nbconvert_exporter": "python",
   "pygments_lexer": "ipython3",
   "version": "3.8.3"
  }
 },
 "nbformat": 4,
 "nbformat_minor": 4
}
