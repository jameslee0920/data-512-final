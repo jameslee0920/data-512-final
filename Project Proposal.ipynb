{
 "cells": [
  {
   "cell_type": "markdown",
   "metadata": {},
   "source": [
    "# OK Boomer, Are We Really Different?: <br>Comparing the Time Use of Americans from the Baby Boomer Generation to GenZ.  \n",
    "\n",
    "\n",
    "# Motivation\n",
    "We experience a type of fencing across generations in Social Media.  The slang phrase \"Ok, Boomer\" rose over recent years.  By definition from [Dictionary.com](https://www.dictionary.com/e/slang/ok-boomer/?itm_source=parsely-api), Ok Boomer is a viral internet slang phrase used, often in a humorous or ironic manner, to call out or dismiss out-of-touch or closed-minded opinions associated with the baby boomer generation and older people more generally.  This analysis will attempt seek whether the experiences in time use are different across generations, and also determine if there are other factors alongside generations responsible for widening this perceived gap.  Through this research we would be able to really dtermine if there really is any significant or worthwhile argument or prejudice regarding one's age or generation.  Finally, through this analysis, we may learn what was the norm of the current incoming work force and compare whether the incoming work force's parents had any significant differences.  \n",
    "\n",
    "\n",
    "# Data Selected for Analysis\n",
    "Data was collected from the [American Time Use Survey](https://www.bls.gov/tus/datafiles-0319.htm) from the U.S. Bureau of Labor Statistics (BLS).  More information regarding the American Time Use Survey can be found [here](https://www.bls.gov/tus/atususersguide.pdf).  \n",
    "The Datasets used were the:\n",
    "* [ATUS 2003-2019 Respondent File](https://www.bls.gov/tus/special.requests/atusresp-0319.zip)\n",
    "  * Contains the general demographics of each survey responder\n",
    "* [ATUS 2003-2019 Activity Summary File](https://www.bls.gov/tus/special.requests/atussum-0319.zip)\n",
    "  * Contains infromation about total time spent doing each activity on a day\n",
    "\n",
    "The data from BLS is in the public domain and is free to use without specific permission. [(Link)](https://www.bls.gov/bls/linksite.htm)\n",
    "This data is suitable in that it has anonymized survey participants and we can obtain the correct demographics and generations by adjusting age with the year of survey to obtain generations of survey responders.  \n",
    "The generations have been categorized by definition from [Pew Research](https://www.pewresearch.org/fact-tank/2019/01/17/where-millennials-end-and-generation-z-begins/).\n",
    "\n",
    "| Generation   | Year Born |\n",
    "|--------------|-----------|\n",
    "| Boomers      | 1946-1964 |\n",
    "| Generation X | 1965-1980 |\n",
    "| Millennials  | 1981-1996 |\n",
    "| Generation Z | 1997-2012 |\n",
    "\n",
    "\n",
    "# Important to Note\n",
    "The results from this analysis is in no way definitive.  The norm that is mentioned from this document to all times in this study refers to the averages within data. There may be bias introduced in the analysis through the aggregation of survey results, and bias may have been introduced in the collection of data.  Participants in survey was voluntary, and the participants do not remain consistent through the various years of collection.  \n",
    "\n",
    "\n",
    "# Hypothesis\n",
    "The hypothesis of this research study is that the overall there is no differences between generations.  The time spent on leisure vs time spent on work should have been consistent throughout the years across different generations.  \n",
    "\n",
    "\n",
    "# Background\n",
    "Millennials are, according to critics mentioned in [Time](https://time.com/4417064/millennial-ceo-success/), are \"lazy, work-shy narcissists who lack loyalty and jump ship at the drop of a hat\".  However, in the article linked above, mentions that the above definition does not really define Millennials, and that placing a group of people born across nearly 2 decades in a single generation does not really make much sense.  The post also argues that the desired \"Work Life Balance\" that most millennials place as the top priority does not really mean that millennials are lazy as unlimited sick days or unlimited vacation days has not reduced the productivity of millennial workers.  \n",
    "On an interview on [NPR](https://www.npr.org/2019/10/03/766926986/why-all-those-criticisms-about-millennials-arent-necessarily-fair), it is mentioned that Millennials may have been moving out of their parents' home at an older age than past generations, but that may be explained by the different economic circumstances of purchasing a home and the higher number of young adults pursuing a college degree, pushing back the average working age.  \n",
    "On [Pew Research](https://www.pewresearch.org/fact-tank/2018/03/16/how-millennials-compare-with-their-grandparents/#!7), there are several points that compare the average demographics of the various generations.  The post mentions that there are more minorities, more women in the work force, more educated members, and more living in urban settings than past gnenerations.  It would be interesting to see how the hypothesis changes according to gender, race, education, and whether a person lives in an urban or rural setting.  \n",
    "\n",
    "\n",
    "# Methodology\n",
    "Each generation would be compared with its adjacent generations according to how many hours, on average, are spent on each activity.  The individual activities will be aggregated to get a general idea of what is spent on leisure, work or self investment in human capital (education or training).  This process would be repeated several times to show the changes in years, sex, education, race, and residential (urban or rural) settings.  The various demographics will be compared in an all else equal setting so that we may isolate the differences when comparing with the entirety of the dataset.  The differences between generations would also be compared via ANOVA, to gauge a statistical significance.  ANOVA will be used instead of a common t-test so that a test for significance of multiple groups may be done.  The comparisons will be visualized in a side-by-side column chart with a fixed y axis to quickly compare results. \n"
   ]
  }
 ],
 "metadata": {
  "kernelspec": {
   "display_name": "Python 3",
   "language": "python",
   "name": "python3"
  },
  "language_info": {
   "codemirror_mode": {
    "name": "ipython",
    "version": 3
   },
   "file_extension": ".py",
   "mimetype": "text/x-python",
   "name": "python",
   "nbconvert_exporter": "python",
   "pygments_lexer": "ipython3",
   "version": "3.8.3"
  }
 },
 "nbformat": 4,
 "nbformat_minor": 4
}
