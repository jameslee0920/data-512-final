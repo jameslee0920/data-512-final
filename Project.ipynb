{
 "cells": [
  {
   "cell_type": "markdown",
   "metadata": {},
   "source": [
    "# OK Boomer, Are We Really Different?: <br>Comparing the Time Use of Americans of Various Generations.  "
   ]
  },
  {
   "cell_type": "markdown",
   "metadata": {},
   "source": [
    "# Abstract\n",
    "\n",
    "&ensp;&ensp;&ensp;The term \"Ok Boomer\" arose in recent years as a counter to the prevailing image of Millennials as being the lazy or privileged generation.  This clashing is a result of decades of a generation gap that exists between the Millennials who the youngest have been entering the work force, and the Baby Boomers who the youngest are leaving the work force.  To verify whether or not there actually exists a difference in laziness or the time spent working or in leisure, a comparison was made in the 3 generations from Baby Boomers to Millennials.  The data found in the Bureau of Labor Statistics’ American Time Use Survey (ATUS) yielded results showing no statistical significance in the difference in working hours or time spent in leisure for the 3 generations by means of the ANOVA test.  While the veracity of laziness of one generation was not determined, it was concluded that one generation is not so different from other generations in their use of time at work, making the possible inference that laziness is not a trait of a single generation.\n"
   ]
  },
  {
   "cell_type": "markdown",
   "metadata": {},
   "source": [
    "# Motivation\n",
    "We experience a type of fencing across generations in Social Media.  The slang phrase \"Ok, Boomer\" rose over recent years.  By definition from [Dictionary.com](https://www.dictionary.com/e/slang/ok-boomer/?itm_source=parsely-api), Ok Boomer is a viral internet slang phrase used, often in a humorous or ironic manner, to call out or dismiss out-of-touch or closed-minded opinions associated with the baby boomer generation and older people more generally.  This analysis will attempt seek whether the experiences in time use are different across generations, and also determine if there are other factors alongside generations responsible for widening this perceived gap.  Through this research we would be able to really dtermine if there really is any significant or worthwhile argument or prejudice regarding one's age or generation.  Finally, through this analysis, we may learn what was the norm of the current incoming work force and compare whether the incoming work force's parents had any significant differences.  "
   ]
  },
  {
   "cell_type": "markdown",
   "metadata": {},
   "source": [
    "# Data Selected for Analysis\n",
    "Data was collected from the [American Time Use Survey](https://www.bls.gov/tus/datafiles-0319.htm) from the U.S. Bureau of Labor Statistics (BLS).  More information regarding the American Time Use Survey can be found [here](https://www.bls.gov/tus/atususersguide.pdf).  \n",
    "The Datasets used were the:\n",
    "* [ATUS 2003-2019 Activity Summary File](https://www.bls.gov/tus/special.requests/atussum-0319.zip)\n",
    "  * Contains infromation about total time spent doing each activity on a day\n",
    "* [Data Dictionary](https://www.bls.gov/tus/atuscpscodebk0319.pdf)\n",
    "  * Contains information on the contents of Data, and the coding of column names\n",
    "* [Activity Lexicon](https://www.bls.gov/tus/lexiconnoex0318.pdf)\n",
    "  * Contains information on translating the coded activities\n",
    "\n",
    "** Note Data has been transformed so that the .dat file is converted into a .txt file, separately, before it is read here\n",
    "\n",
    "<br>\n",
    "<br>\n",
    "\n",
    "The data from BLS is in the public domain and is free to use without specific permission. [(Link)](https://www.bls.gov/bls/linksite.htm)\n",
    "This data is suitable in that it has anonymized survey participants and we can obtain the correct demographics and generations by adjusting age with the year of survey to obtain generations of survey responders.  \n",
    "The generations have been categorized by definition from [Pew Research](https://www.pewresearch.org/fact-tank/2019/01/17/where-millennials-end-and-generation-z-begins/).\n",
    "\n",
    "| Generation   | Year Born |\n",
    "|--------------|-----------|\n",
    "| Boomers      | 1946-1964 |\n",
    "| Generation X | 1965-1980 |\n",
    "| Millennials  | 1981-1996 |\n",
    "| Generation Z | 1997-2012 |\n"
   ]
  },
  {
   "cell_type": "markdown",
   "metadata": {},
   "source": [
    "# Important to Note\n",
    "The results from this analysis is in no way definitive.  The norm that is mentioned from this document to all times in this study refers to the averages within data. There may be bias introduced in the analysis through the aggregation of survey results, and bias may have been introduced in the collection of data.  Participants in survey was voluntary, and the participants do not remain consistent through the various years of collection.  \n"
   ]
  },
  {
   "cell_type": "markdown",
   "metadata": {},
   "source": [
    "# Hypothesis\n",
    "The hypothesis of this research study is that the overall there is no differences between generations.  The time spent on leisure vs time spent on work should have been consistent throughout the years across different generations.  "
   ]
  },
  {
   "cell_type": "markdown",
   "metadata": {},
   "source": [
    "# Background\n",
    "Millennials are, according to critics mentioned in [Time](https://time.com/4417064/millennial-ceo-success/), are \"lazy, work-shy narcissists who lack loyalty and jump ship at the drop of a hat\".  However, in the article linked above, mentions that the above definition does not really define Millennials, and that placing a group of people born across nearly 2 decades in a single generation does not really make much sense.  The post also argues that the desired \"Work Life Balance\" that most millennials place as the top priority does not really mean that millennials are lazy as unlimited sick days or unlimited vacation days has not reduced the productivity of millennial workers.  \n",
    "On an interview on [NPR](https://www.npr.org/2019/10/03/766926986/why-all-those-criticisms-about-millennials-arent-necessarily-fair), it is mentioned that Millennials may have been moving out of their parents' home at an older age than past generations, but that may be explained by the different economic circumstances of purchasing a home and the higher number of young adults pursuing a college degree, pushing back the average working age.  \n",
    "On [Pew Research](https://www.pewresearch.org/fact-tank/2018/03/16/how-millennials-compare-with-their-grandparents/#!7), there are several points that compare the average demographics of the various generations.  The post mentions that there are more minorities, more women in the work force, more educated members, and more living in urban settings than past generations.  It would be interesting to see how the hypothesis changes according to gender, race, education, and whether a person lives in an urban or rural setting.  "
   ]
  },
  {
   "cell_type": "markdown",
   "metadata": {},
   "source": [
    "# Methodology\n",
    "Each generation would be compared with its adjacent generations according to how many hours, on average, are spent on each activity.  The individual activities will be aggregated to get a general idea of what is spent on leisure, work or self investment in human capital (education or training). The differences between generations would also be compared via ANOVA, to gauge a statistical significance.  ANOVA will be used instead of a common t-test so that a test for significance of multiple groups may be done.  The comparisons will be visualized in a side-by-side column chart with a fixed y axis to quickly compare results. "
   ]
  },
  {
   "cell_type": "markdown",
   "metadata": {},
   "source": [
    "### Reading the Dataset and Loading Dependencies"
   ]
  },
  {
   "cell_type": "code",
   "execution_count": 1,
   "metadata": {},
   "outputs": [],
   "source": [
    "# Import Packages\n",
    "import numpy as np\n",
    "import pandas as pd\n",
    "import re\n",
    "import scipy.stats as stats\n",
    "import matplotlib.pyplot as plt\n",
    "from matplotlib import rcParams \n",
    "rcParams['figure.figsize'] = [20, 10]\n",
    "\n",
    "# Reading Dataset\n",
    "worker = pd.read_csv(\"Data/processed_atus_data.csv\")"
   ]
  },
  {
   "cell_type": "markdown",
   "metadata": {},
   "source": [
    "### Preprocessing\n",
    "Preprocessing was done separately, transforming the original file.  The file was not included in this repository due to file size.  The code used for the Preprocessing steps, along with the writing of the file can be viewed here:\n",
    "\n",
    "[data-512-final/Data/Preprocessing.ipynb](https://github.com/jameslee0920/data-512-final/Data/Preprocessing.ipynb)"
   ]
  },
  {
   "cell_type": "markdown",
   "metadata": {},
   "source": [
    "### Results"
   ]
  },
  {
   "cell_type": "code",
   "execution_count": 2,
   "metadata": {},
   "outputs": [
    {
     "data": {
      "text/html": [
       "<div>\n",
       "<style scoped>\n",
       "    .dataframe tbody tr th:only-of-type {\n",
       "        vertical-align: middle;\n",
       "    }\n",
       "\n",
       "    .dataframe tbody tr th {\n",
       "        vertical-align: top;\n",
       "    }\n",
       "\n",
       "    .dataframe thead th {\n",
       "        text-align: right;\n",
       "    }\n",
       "</style>\n",
       "<table border=\"1\" class=\"dataframe\">\n",
       "  <thead>\n",
       "    <tr style=\"text-align: right;\">\n",
       "      <th></th>\n",
       "      <th>generation</th>\n",
       "      <th>sleep</th>\n",
       "      <th>house_work</th>\n",
       "      <th>child_care</th>\n",
       "      <th>work</th>\n",
       "      <th>education</th>\n",
       "      <th>leisure</th>\n",
       "    </tr>\n",
       "  </thead>\n",
       "  <tbody>\n",
       "    <tr>\n",
       "      <th>0</th>\n",
       "      <td>Boomers</td>\n",
       "      <td>8.400236</td>\n",
       "      <td>1.901582</td>\n",
       "      <td>0.756734</td>\n",
       "      <td>4.504024</td>\n",
       "      <td>0.048165</td>\n",
       "      <td>3.960606</td>\n",
       "    </tr>\n",
       "    <tr>\n",
       "      <th>1</th>\n",
       "      <td>Generation X</td>\n",
       "      <td>8.523353</td>\n",
       "      <td>1.729303</td>\n",
       "      <td>1.009413</td>\n",
       "      <td>4.398927</td>\n",
       "      <td>0.099827</td>\n",
       "      <td>3.922638</td>\n",
       "    </tr>\n",
       "    <tr>\n",
       "      <th>2</th>\n",
       "      <td>Millennials</td>\n",
       "      <td>8.710442</td>\n",
       "      <td>1.636718</td>\n",
       "      <td>1.060640</td>\n",
       "      <td>4.425084</td>\n",
       "      <td>0.124155</td>\n",
       "      <td>3.909304</td>\n",
       "    </tr>\n",
       "  </tbody>\n",
       "</table>\n",
       "</div>"
      ],
      "text/plain": [
       "     generation     sleep  house_work  child_care      work  education  \\\n",
       "0       Boomers  8.400236    1.901582    0.756734  4.504024   0.048165   \n",
       "1  Generation X  8.523353    1.729303    1.009413  4.398927   0.099827   \n",
       "2   Millennials  8.710442    1.636718    1.060640  4.425084   0.124155   \n",
       "\n",
       "    leisure  \n",
       "0  3.960606  \n",
       "1  3.922638  \n",
       "2  3.909304  "
      ]
     },
     "execution_count": 2,
     "metadata": {},
     "output_type": "execute_result"
    }
   ],
   "source": [
    "# Resulting dataset (table form)\n",
    "generation_worker_df = worker.groupby('generation').agg({'sleep':'mean','house_work':'mean','child_care':'mean','work':'mean','education':'mean','leisure':'mean'}).reset_index()\n",
    "generation_worker_df"
   ]
  },
  {
   "cell_type": "code",
   "execution_count": 3,
   "metadata": {},
   "outputs": [
    {
     "data": {
      "image/png": "[encoded data removed]",
      "text/plain": [
       "<Figure size 1440x720 with 1 Axes>"
      ]
     },
     "metadata": {
      "needs_background": "light"
     },
     "output_type": "display_data"
    }
   ],
   "source": [
    "# Visualization of table\n",
    "Boomer_means = [generation_worker_df[generation_worker_df.generation == 'Boomers']['sleep'][0], \n",
    "                generation_worker_df[generation_worker_df.generation == 'Boomers']['house_work'][0],\n",
    "                generation_worker_df[generation_worker_df.generation == 'Boomers']['child_care'][0],\n",
    "                generation_worker_df[generation_worker_df.generation == 'Boomers']['education'][0],\n",
    "                generation_worker_df[generation_worker_df.generation == 'Boomers']['work'][0],\n",
    "                generation_worker_df[generation_worker_df.generation == 'Boomers']['leisure'][0]\n",
    "               ]\n",
    "genx_means = [generation_worker_df[generation_worker_df.generation == 'Generation X']['sleep'][1], \n",
    "                generation_worker_df[generation_worker_df.generation == 'Generation X']['house_work'][1],\n",
    "                generation_worker_df[generation_worker_df.generation == 'Generation X']['child_care'][1],\n",
    "                generation_worker_df[generation_worker_df.generation == 'Generation X']['education'][1],\n",
    "                generation_worker_df[generation_worker_df.generation == 'Generation X']['work'][1],\n",
    "                generation_worker_df[generation_worker_df.generation == 'Generation X']['leisure'][1]\n",
    "               ]\n",
    "millennials_means = [generation_worker_df[generation_worker_df.generation == 'Millennials']['sleep'][2], \n",
    "                generation_worker_df[generation_worker_df.generation == 'Millennials']['house_work'][2],\n",
    "                generation_worker_df[generation_worker_df.generation == 'Millennials']['child_care'][2],\n",
    "                generation_worker_df[generation_worker_df.generation == 'Millennials']['education'][2],\n",
    "                generation_worker_df[generation_worker_df.generation == 'Millennials']['work'][2],\n",
    "                generation_worker_df[generation_worker_df.generation == 'Millennials']['leisure'][2]\n",
    "               ]\n",
    "\n",
    "ind = np.arange(6) \n",
    "width = 0.25       \n",
    "plt.bar(ind, Boomer_means, width, label='Boomers')\n",
    "plt.bar(ind + width, genx_means, width,label='Gen X')\n",
    "plt.bar(ind + 2* width, millennials_means, width, label='Millennials')\n",
    "plt.ylabel('Hours', fontdict={'fontsize':20})\n",
    "plt.title('Average Hours Spent', fontdict={'fontsize':20})\n",
    "plt.xticks(ind + width / 1, ('Sleep', 'House Work', 'Child Care', 'Education', 'Work', 'Leisure'), fontsize=15)\n",
    "plt.legend(loc='best')\n",
    "plt.show()\n"
   ]
  },
  {
   "cell_type": "markdown",
   "metadata": {},
   "source": [
    "### Statistical Tests"
   ]
  },
  {
   "cell_type": "markdown",
   "metadata": {},
   "source": [
    "#### Differences in Time Spent in Work"
   ]
  },
  {
   "cell_type": "code",
   "execution_count": 4,
   "metadata": {},
   "outputs": [
    {
     "data": {
      "text/plain": [
       "F_onewayResult(statistic=0.33526205285907124, pvalue=0.7151529726817428)"
      ]
     },
     "execution_count": 4,
     "metadata": {},
     "output_type": "execute_result"
    }
   ],
   "source": [
    "stats.f_oneway(worker[worker.generation==\"Boomers\"]['work'], \n",
    "               worker[worker.generation==\"Generation X\"]['work'], \n",
    "               worker[worker.generation==\"Millennials\"]['work']\n",
    "              )"
   ]
  },
  {
   "cell_type": "markdown",
   "metadata": {},
   "source": [
    "#### Differences in Time Spent in Leisure"
   ]
  },
  {
   "cell_type": "code",
   "execution_count": 5,
   "metadata": {},
   "outputs": [
    {
     "data": {
      "text/plain": [
       "F_onewayResult(statistic=0.1409326628942773, pvalue=0.8685482927273277)"
      ]
     },
     "execution_count": 5,
     "metadata": {},
     "output_type": "execute_result"
    }
   ],
   "source": [
    "stats.f_oneway(worker[worker.generation==\"Boomers\"]['leisure'], \n",
    "               worker[worker.generation==\"Generation X\"]['leisure'], \n",
    "               worker[worker.generation==\"Millennials\"]['leisure']\n",
    "              )"
   ]
  },
  {
   "cell_type": "markdown",
   "metadata": {},
   "source": [
    "#### Differences in Time Spent in Sleep"
   ]
  },
  {
   "cell_type": "code",
   "execution_count": 6,
   "metadata": {},
   "outputs": [
    {
     "data": {
      "text/plain": [
       "F_onewayResult(statistic=23.103743474018255, pvalue=9.394014881919337e-11)"
      ]
     },
     "execution_count": 6,
     "metadata": {},
     "output_type": "execute_result"
    }
   ],
   "source": [
    "stats.f_oneway(worker[worker.generation==\"Boomers\"]['sleep'], \n",
    "               worker[worker.generation==\"Generation X\"]['sleep'], \n",
    "               worker[worker.generation==\"Millennials\"]['sleep']\n",
    "              )"
   ]
  },
  {
   "cell_type": "markdown",
   "metadata": {},
   "source": [
    "#### Differences in Time Spent in Education"
   ]
  },
  {
   "cell_type": "code",
   "execution_count": 7,
   "metadata": {},
   "outputs": [
    {
     "data": {
      "text/plain": [
       "F_onewayResult(statistic=5.486195367943084, pvalue=0.004147176497628182)"
      ]
     },
     "execution_count": 7,
     "metadata": {},
     "output_type": "execute_result"
    }
   ],
   "source": [
    "stats.f_oneway(worker[worker.generation==\"Boomers\"]['education'], \n",
    "               worker[worker.generation==\"Generation X\"]['education'], \n",
    "               worker[worker.generation==\"Millennials\"]['education']\n",
    "              )"
   ]
  },
  {
   "cell_type": "markdown",
   "metadata": {},
   "source": [
    "#### Differences in Time Spent in House Work"
   ]
  },
  {
   "cell_type": "code",
   "execution_count": 8,
   "metadata": {},
   "outputs": [
    {
     "data": {
      "text/plain": [
       "F_onewayResult(statistic=9.04709786281109, pvalue=0.00011801035372067405)"
      ]
     },
     "execution_count": 8,
     "metadata": {},
     "output_type": "execute_result"
    }
   ],
   "source": [
    "stats.f_oneway(worker[worker.generation==\"Boomers\"]['house_work'], \n",
    "               worker[worker.generation==\"Generation X\"]['house_work'], \n",
    "               worker[worker.generation==\"Millennials\"]['house_work']\n",
    "              )"
   ]
  },
  {
   "cell_type": "markdown",
   "metadata": {},
   "source": [
    "#### Differences in Time Spent in Child Care"
   ]
  },
  {
   "cell_type": "code",
   "execution_count": 9,
   "metadata": {},
   "outputs": [
    {
     "data": {
      "text/plain": [
       "F_onewayResult(statistic=15.778086413945637, pvalue=1.4150775722769026e-07)"
      ]
     },
     "execution_count": 9,
     "metadata": {},
     "output_type": "execute_result"
    }
   ],
   "source": [
    "stats.f_oneway(worker[worker.generation==\"Boomers\"]['child_care'], \n",
    "               worker[worker.generation==\"Generation X\"]['child_care'], \n",
    "               worker[worker.generation==\"Millennials\"]['child_care']\n",
    "              )"
   ]
  },
  {
   "cell_type": "markdown",
   "metadata": {},
   "source": [
    " <br>\n",
    " \n",
    " \n",
    " \n",
    " "
   ]
  },
  {
   "cell_type": "markdown",
   "metadata": {},
   "source": [
    "# Findings\n",
    "According to the graph and table displayed above, all 3 generations spend similar amounts of time in both liesure and in work.  This is further supported by the ANOVA Statistical test where the p value is very high, failing to reject the null hypothesis.  This means that the different generations are not really that different, and that one generation is not at all lazy.  However, Millennials can be blamed for the lack of housework as that appears to be significantly lower than other generations.  Millennials appear to sleep a lot and not do much housework when compared to other generations.  "
   ]
  },
  {
   "cell_type": "markdown",
   "metadata": {},
   "source": [
    "# Discussion"
   ]
  },
  {
   "cell_type": "markdown",
   "metadata": {},
   "source": [
    "The results shown here do not indicate any matters of causality.  The results in here for example, do not indicate that, for example, a person does not do house work because he or she is a Millennials.  Secondly, some parts of the results may require scrutiny.  For example, in the results, we see that the \"Differences in Time Spent in Child Care\" is statistically significant.  However, this could be a result of the large age range of the dataset.  Because the dataset runs from 2003 to 2019, there is a disproportionate number of higher 30s or 40 year old Baby Boomers and a disproportionate number of lower 30s or 30 year old Millennials in the dataset.  Childcare would accompany greater time spent, the younger the child is, and for baby boomers, their children would be closer to an independent adult than that for Millennials'.  This reasoning would apply similarly for the time spent on education or training.  \n",
    "\n",
    "\n",
    "  "
   ]
  },
  {
   "cell_type": "markdown",
   "metadata": {},
   "source": [
    "# Conclusion"
   ]
  },
  {
   "cell_type": "markdown",
   "metadata": {},
   "source": [
    "The result of my analysis was relieving.  In a world where there is an emphasis on differences among humans, I was relieved that the year we are born in do not bring about or even correlate to a certain characteristic.  As the youngest in my family with sibblings and parents much older than me, I found that while there are cultural differences, we share similar work ethics of putting in effort in our tasks.\n",
    "Millennials may be less inclined to waking up early or making their beds up after sleeping, but Millennials put in the same amount of work as other generations.  This shows that while individually, we are different, but as humans we are more similar than we are different."
   ]
  },
  {
   "cell_type": "markdown",
   "metadata": {},
   "source": [
    "# Extra"
   ]
  },
  {
   "cell_type": "markdown",
   "metadata": {},
   "source": [
    "#### Sex Separated Table"
   ]
  },
  {
   "cell_type": "code",
   "execution_count": 10,
   "metadata": {},
   "outputs": [
    {
     "data": {
      "text/html": [
       "<div>\n",
       "<style scoped>\n",
       "    .dataframe tbody tr th:only-of-type {\n",
       "        vertical-align: middle;\n",
       "    }\n",
       "\n",
       "    .dataframe tbody tr th {\n",
       "        vertical-align: top;\n",
       "    }\n",
       "\n",
       "    .dataframe thead th {\n",
       "        text-align: right;\n",
       "    }\n",
       "</style>\n",
       "<table border=\"1\" class=\"dataframe\">\n",
       "  <thead>\n",
       "    <tr style=\"text-align: right;\">\n",
       "      <th></th>\n",
       "      <th>generation</th>\n",
       "      <th>Sex</th>\n",
       "      <th>sleep</th>\n",
       "      <th>house_work</th>\n",
       "      <th>child_care</th>\n",
       "      <th>work</th>\n",
       "      <th>education</th>\n",
       "      <th>leisure</th>\n",
       "    </tr>\n",
       "  </thead>\n",
       "  <tbody>\n",
       "    <tr>\n",
       "      <th>0</th>\n",
       "      <td>Boomers</td>\n",
       "      <td>Female</td>\n",
       "      <td>8.520103</td>\n",
       "      <td>2.444192</td>\n",
       "      <td>0.878488</td>\n",
       "      <td>3.783677</td>\n",
       "      <td>0.056220</td>\n",
       "      <td>3.582062</td>\n",
       "    </tr>\n",
       "    <tr>\n",
       "      <th>1</th>\n",
       "      <td>Boomers</td>\n",
       "      <td>Male</td>\n",
       "      <td>8.285116</td>\n",
       "      <td>1.380462</td>\n",
       "      <td>0.639802</td>\n",
       "      <td>5.195842</td>\n",
       "      <td>0.040429</td>\n",
       "      <td>4.324158</td>\n",
       "    </tr>\n",
       "    <tr>\n",
       "      <th>2</th>\n",
       "      <td>Generation X</td>\n",
       "      <td>Female</td>\n",
       "      <td>8.623825</td>\n",
       "      <td>2.071533</td>\n",
       "      <td>1.199123</td>\n",
       "      <td>3.919692</td>\n",
       "      <td>0.120114</td>\n",
       "      <td>3.555916</td>\n",
       "    </tr>\n",
       "    <tr>\n",
       "      <th>3</th>\n",
       "      <td>Generation X</td>\n",
       "      <td>Male</td>\n",
       "      <td>8.422733</td>\n",
       "      <td>1.386572</td>\n",
       "      <td>0.819425</td>\n",
       "      <td>4.878865</td>\n",
       "      <td>0.079511</td>\n",
       "      <td>4.289897</td>\n",
       "    </tr>\n",
       "    <tr>\n",
       "      <th>4</th>\n",
       "      <td>Millennials</td>\n",
       "      <td>Female</td>\n",
       "      <td>8.836056</td>\n",
       "      <td>1.906712</td>\n",
       "      <td>1.304196</td>\n",
       "      <td>4.044411</td>\n",
       "      <td>0.124211</td>\n",
       "      <td>3.464701</td>\n",
       "    </tr>\n",
       "    <tr>\n",
       "      <th>5</th>\n",
       "      <td>Millennials</td>\n",
       "      <td>Male</td>\n",
       "      <td>8.587942</td>\n",
       "      <td>1.373419</td>\n",
       "      <td>0.823125</td>\n",
       "      <td>4.796316</td>\n",
       "      <td>0.124101</td>\n",
       "      <td>4.342881</td>\n",
       "    </tr>\n",
       "  </tbody>\n",
       "</table>\n",
       "</div>"
      ],
      "text/plain": [
       "     generation     Sex     sleep  house_work  child_care      work  \\\n",
       "0       Boomers  Female  8.520103    2.444192    0.878488  3.783677   \n",
       "1       Boomers    Male  8.285116    1.380462    0.639802  5.195842   \n",
       "2  Generation X  Female  8.623825    2.071533    1.199123  3.919692   \n",
       "3  Generation X    Male  8.422733    1.386572    0.819425  4.878865   \n",
       "4   Millennials  Female  8.836056    1.906712    1.304196  4.044411   \n",
       "5   Millennials    Male  8.587942    1.373419    0.823125  4.796316   \n",
       "\n",
       "   education   leisure  \n",
       "0   0.056220  3.582062  \n",
       "1   0.040429  4.324158  \n",
       "2   0.120114  3.555916  \n",
       "3   0.079511  4.289897  \n",
       "4   0.124211  3.464701  \n",
       "5   0.124101  4.342881  "
      ]
     },
     "execution_count": 10,
     "metadata": {},
     "output_type": "execute_result"
    }
   ],
   "source": [
    "sex_separated_generation_worker_df = worker.groupby(['generation','Sex']).agg({'sleep':'mean','house_work':'mean','child_care':'mean','work':'mean','education':'mean','leisure':'mean'}).reset_index()\n",
    "sex_separated_generation_worker_df\n",
    "\n"
   ]
  },
  {
   "cell_type": "markdown",
   "metadata": {},
   "source": [
    "Interestingly, we see a large gap in almost all activities except sleep when the data is separated by sex.  However, there appears to be a trend in the number of hours spent for work and education in that the gap between each sex appears to be diminishing for later generations.  The same trend appears on house work as well at a slower pace."
   ]
  },
  {
   "cell_type": "markdown",
   "metadata": {},
   "source": [
    "# Future Work\n",
    "The separation of sex brought an interesting point.  There is much work to be done in separating by the unique demographics available to this data. Place of Residence (whether the place of residence is urban or rural) appears to be an interesting factor to work with and to see if there are any changes to the result.  "
   ]
  }
 ],
 "metadata": {
  "kernelspec": {
   "display_name": "Python 3",
   "language": "python",
   "name": "python3"
  },
  "language_info": {
   "codemirror_mode": {
    "name": "ipython",
    "version": 3
   },
   "file_extension": ".py",
   "mimetype": "text/x-python",
   "name": "python",
   "nbconvert_exporter": "python",
   "pygments_lexer": "ipython3",
   "version": "3.8.3"
  }
 },
 "nbformat": 4,
 "nbformat_minor": 4
}
